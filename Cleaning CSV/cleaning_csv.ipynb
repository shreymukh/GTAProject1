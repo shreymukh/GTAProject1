{
 "cells": [
  {
   "cell_type": "code",
   "execution_count": 7,
   "metadata": {},
   "outputs": [],
   "source": [
    "import csv\n",
    "\n",
    "# Read csv\n",
    "with open('top 100 cities clean.csv', newline = '') as csvfile:\n",
    "    csvreader = csv.reader(csvfile, delimiter=',')\n",
    "    csv_header = next(csvreader)\n",
    "    \n",
    "    \n",
    "    rank = []\n",
    "    city = []\n",
    "    state = []\n",
    "    lat = []\n",
    "    lng = []\n",
    "    # Iterate through csv\n",
    "    for row in csvreader:\n",
    "        \n",
    "        # For each city, only take the first part of lat long string\n",
    "        my_lat = row[3].split(\" \")[0]\n",
    "        my_lng = row[4].split(\" \")[0]\n",
    "        \n",
    "        #Append row elements to corresponding lists\n",
    "        rank.append(row[0])\n",
    "        city.append(row[1])\n",
    "        state.append(row[2])\n",
    "        lat.append(my_lat)\n",
    "        lng.append(\"-\" + my_lng)    # Make longitude negative\n",
    "\n",
    "# Write to new csv\n",
    "with open('top 100 cities clean.csv', 'w', newline='') as csvfile:\n",
    "    csvwriter = csv.writer(csvfile, delimiter=',')\n",
    "    csvwriter.writerow(['2012 Rank', 'City', 'State','Latitude','Longitude'])    # Switch Lat and Lng Headers, backwards in original csv\n",
    "\n",
    "    # write lists to rows\n",
    "    for i in range(len(rank)):\n",
    "        csvwriter.writerow([rank[i], city[i], state[i], lat[i], lng[i]])\n",
    "\n"
   ]
  },
  {
   "cell_type": "code",
   "execution_count": null,
   "metadata": {},
   "outputs": [],
   "source": []
  }
 ],
 "metadata": {
  "kernelspec": {
   "display_name": "Python 3",
   "language": "python",
   "name": "python3"
  },
  "language_info": {
   "codemirror_mode": {
    "name": "ipython",
    "version": 3
   },
   "file_extension": ".py",
   "mimetype": "text/x-python",
   "name": "python",
   "nbconvert_exporter": "python",
   "pygments_lexer": "ipython3",
   "version": "3.7.3"
  }
 },
 "nbformat": 4,
 "nbformat_minor": 2
}
