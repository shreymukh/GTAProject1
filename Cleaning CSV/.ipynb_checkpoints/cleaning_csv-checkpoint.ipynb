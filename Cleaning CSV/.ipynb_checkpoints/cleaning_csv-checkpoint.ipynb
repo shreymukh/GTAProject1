{
 "cells": [
  {
   "cell_type": "code",
   "execution_count": 4,
   "metadata": {},
   "outputs": [],
   "source": [
    "import csv\n",
    "with open('top 100 cities clean.csv', newline = '') as csvfile:\n",
    "    csvreader = csv.reader(csvfile, delimiter=',')\n",
    "    csv_header = next(csvreader)\n",
    "    rank = []\n",
    "    city = []\n",
    "    state = []\n",
    "    lat = []\n",
    "    lng = []\n",
    "    for row in csvreader:\n",
    "        my_lat = row[3].split(\" \")[0]\n",
    "        my_lng = row[4].split(\" \")[0]\n",
    "        rank.append(row[0])\n",
    "        city.append(row[1])\n",
    "        state.append(row[2])\n",
    "        lat.append(row[3])\n",
    "        lng.append(row[4])\n",
    "\n",
    "with open('top 100 cities clean(1).csv', 'w', newline='') as csvfile:\n",
    "    csvwriter = csv.writer(csvfile, delimiter=',')\n",
    "    csvwriter.writerow(['2012 Rank', 'City', 'State','Latitude','Longitude'])\n",
    "\n",
    "    for i in range(len(rank)):\n",
    "        csvwriter.writerow([rank[i], city[i], state[i], lat[i], lng[i]])\n",
    "\n"
   ]
  },
  {
   "cell_type": "code",
   "execution_count": null,
   "metadata": {},
   "outputs": [],
   "source": []
  }
 ],
 "metadata": {
  "kernelspec": {
   "display_name": "Python 3",
   "language": "python",
   "name": "python3"
  },
  "language_info": {
   "codemirror_mode": {
    "name": "ipython",
    "version": 3
   },
   "file_extension": ".py",
   "mimetype": "text/x-python",
   "name": "python",
   "nbconvert_exporter": "python",
   "pygments_lexer": "ipython3",
   "version": "3.7.3"
  }
 },
 "nbformat": 4,
 "nbformat_minor": 2
}
